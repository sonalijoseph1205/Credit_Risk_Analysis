{
 "cells": [
  {
   "cell_type": "code",
   "execution_count": 2,
   "id": "3d7a88c2",
   "metadata": {},
   "outputs": [],
   "source": [
    "import pandas as pd\n",
    "import numpy as np\n",
    "import matplotlib.pyplot as plt\n",
    "import seaborn as sns\n"
   ]
  },
  {
   "cell_type": "code",
   "execution_count": 3,
   "id": "06605c09",
   "metadata": {},
   "outputs": [],
   "source": [
    "import warnings\n",
    "warnings.filterwarnings(\"ignore\")"
   ]
  },
  {
   "cell_type": "code",
   "execution_count": 4,
   "id": "177cd979",
   "metadata": {},
   "outputs": [],
   "source": [
    "inp0 = pd.read_csv(\"application_data.csv\")"
   ]
  },
  {
   "cell_type": "code",
   "execution_count": 5,
   "id": "256af3c4",
   "metadata": {},
   "outputs": [],
   "source": [
    "inp1 = pd.read_csv(\"columns_description.csv\", sep=\",\", encoding='cp1252')"
   ]
  },
  {
   "cell_type": "code",
   "execution_count": 6,
   "id": "95ce2af8",
   "metadata": {},
   "outputs": [
    {
     "data": {
      "text/html": [
       "<div>\n",
       "<style scoped>\n",
       "    .dataframe tbody tr th:only-of-type {\n",
       "        vertical-align: middle;\n",
       "    }\n",
       "\n",
       "    .dataframe tbody tr th {\n",
       "        vertical-align: top;\n",
       "    }\n",
       "\n",
       "    .dataframe thead th {\n",
       "        text-align: right;\n",
       "    }\n",
       "</style>\n",
       "<table border=\"1\" class=\"dataframe\">\n",
       "  <thead>\n",
       "    <tr style=\"text-align: right;\">\n",
       "      <th></th>\n",
       "      <th>SK_ID_PREV</th>\n",
       "      <th>SK_ID_CURR</th>\n",
       "      <th>NAME_CONTRACT_TYPE</th>\n",
       "      <th>AMT_ANNUITY</th>\n",
       "      <th>AMT_APPLICATION</th>\n",
       "      <th>AMT_CREDIT</th>\n",
       "      <th>AMT_DOWN_PAYMENT</th>\n",
       "      <th>AMT_GOODS_PRICE</th>\n",
       "      <th>WEEKDAY_APPR_PROCESS_START</th>\n",
       "      <th>HOUR_APPR_PROCESS_START</th>\n",
       "      <th>...</th>\n",
       "      <th>NAME_SELLER_INDUSTRY</th>\n",
       "      <th>CNT_PAYMENT</th>\n",
       "      <th>NAME_YIELD_GROUP</th>\n",
       "      <th>PRODUCT_COMBINATION</th>\n",
       "      <th>DAYS_FIRST_DRAWING</th>\n",
       "      <th>DAYS_FIRST_DUE</th>\n",
       "      <th>DAYS_LAST_DUE_1ST_VERSION</th>\n",
       "      <th>DAYS_LAST_DUE</th>\n",
       "      <th>DAYS_TERMINATION</th>\n",
       "      <th>NFLAG_INSURED_ON_APPROVAL</th>\n",
       "    </tr>\n",
       "  </thead>\n",
       "  <tbody>\n",
       "    <tr>\n",
       "      <th>0</th>\n",
       "      <td>2030495</td>\n",
       "      <td>271877</td>\n",
       "      <td>Consumer loans</td>\n",
       "      <td>1730.430</td>\n",
       "      <td>17145.0</td>\n",
       "      <td>17145.0</td>\n",
       "      <td>0.0</td>\n",
       "      <td>17145.0</td>\n",
       "      <td>SATURDAY</td>\n",
       "      <td>15</td>\n",
       "      <td>...</td>\n",
       "      <td>Connectivity</td>\n",
       "      <td>12.0</td>\n",
       "      <td>middle</td>\n",
       "      <td>POS mobile with interest</td>\n",
       "      <td>365243.0</td>\n",
       "      <td>-42.0</td>\n",
       "      <td>300.0</td>\n",
       "      <td>-42.0</td>\n",
       "      <td>-37.0</td>\n",
       "      <td>0.0</td>\n",
       "    </tr>\n",
       "    <tr>\n",
       "      <th>1</th>\n",
       "      <td>2802425</td>\n",
       "      <td>108129</td>\n",
       "      <td>Cash loans</td>\n",
       "      <td>25188.615</td>\n",
       "      <td>607500.0</td>\n",
       "      <td>679671.0</td>\n",
       "      <td>NaN</td>\n",
       "      <td>607500.0</td>\n",
       "      <td>THURSDAY</td>\n",
       "      <td>11</td>\n",
       "      <td>...</td>\n",
       "      <td>XNA</td>\n",
       "      <td>36.0</td>\n",
       "      <td>low_action</td>\n",
       "      <td>Cash X-Sell: low</td>\n",
       "      <td>365243.0</td>\n",
       "      <td>-134.0</td>\n",
       "      <td>916.0</td>\n",
       "      <td>365243.0</td>\n",
       "      <td>365243.0</td>\n",
       "      <td>1.0</td>\n",
       "    </tr>\n",
       "    <tr>\n",
       "      <th>2</th>\n",
       "      <td>2523466</td>\n",
       "      <td>122040</td>\n",
       "      <td>Cash loans</td>\n",
       "      <td>15060.735</td>\n",
       "      <td>112500.0</td>\n",
       "      <td>136444.5</td>\n",
       "      <td>NaN</td>\n",
       "      <td>112500.0</td>\n",
       "      <td>TUESDAY</td>\n",
       "      <td>11</td>\n",
       "      <td>...</td>\n",
       "      <td>XNA</td>\n",
       "      <td>12.0</td>\n",
       "      <td>high</td>\n",
       "      <td>Cash X-Sell: high</td>\n",
       "      <td>365243.0</td>\n",
       "      <td>-271.0</td>\n",
       "      <td>59.0</td>\n",
       "      <td>365243.0</td>\n",
       "      <td>365243.0</td>\n",
       "      <td>1.0</td>\n",
       "    </tr>\n",
       "    <tr>\n",
       "      <th>3</th>\n",
       "      <td>2819243</td>\n",
       "      <td>176158</td>\n",
       "      <td>Cash loans</td>\n",
       "      <td>47041.335</td>\n",
       "      <td>450000.0</td>\n",
       "      <td>470790.0</td>\n",
       "      <td>NaN</td>\n",
       "      <td>450000.0</td>\n",
       "      <td>MONDAY</td>\n",
       "      <td>7</td>\n",
       "      <td>...</td>\n",
       "      <td>XNA</td>\n",
       "      <td>12.0</td>\n",
       "      <td>middle</td>\n",
       "      <td>Cash X-Sell: middle</td>\n",
       "      <td>365243.0</td>\n",
       "      <td>-482.0</td>\n",
       "      <td>-152.0</td>\n",
       "      <td>-182.0</td>\n",
       "      <td>-177.0</td>\n",
       "      <td>1.0</td>\n",
       "    </tr>\n",
       "    <tr>\n",
       "      <th>4</th>\n",
       "      <td>1784265</td>\n",
       "      <td>202054</td>\n",
       "      <td>Cash loans</td>\n",
       "      <td>31924.395</td>\n",
       "      <td>337500.0</td>\n",
       "      <td>404055.0</td>\n",
       "      <td>NaN</td>\n",
       "      <td>337500.0</td>\n",
       "      <td>THURSDAY</td>\n",
       "      <td>9</td>\n",
       "      <td>...</td>\n",
       "      <td>XNA</td>\n",
       "      <td>24.0</td>\n",
       "      <td>high</td>\n",
       "      <td>Cash Street: high</td>\n",
       "      <td>NaN</td>\n",
       "      <td>NaN</td>\n",
       "      <td>NaN</td>\n",
       "      <td>NaN</td>\n",
       "      <td>NaN</td>\n",
       "      <td>NaN</td>\n",
       "    </tr>\n",
       "  </tbody>\n",
       "</table>\n",
       "<p>5 rows × 37 columns</p>\n",
       "</div>"
      ],
      "text/plain": [
       "   SK_ID_PREV  SK_ID_CURR NAME_CONTRACT_TYPE  AMT_ANNUITY  AMT_APPLICATION  \\\n",
       "0     2030495      271877     Consumer loans     1730.430          17145.0   \n",
       "1     2802425      108129         Cash loans    25188.615         607500.0   \n",
       "2     2523466      122040         Cash loans    15060.735         112500.0   \n",
       "3     2819243      176158         Cash loans    47041.335         450000.0   \n",
       "4     1784265      202054         Cash loans    31924.395         337500.0   \n",
       "\n",
       "   AMT_CREDIT  AMT_DOWN_PAYMENT  AMT_GOODS_PRICE WEEKDAY_APPR_PROCESS_START  \\\n",
       "0     17145.0               0.0          17145.0                   SATURDAY   \n",
       "1    679671.0               NaN         607500.0                   THURSDAY   \n",
       "2    136444.5               NaN         112500.0                    TUESDAY   \n",
       "3    470790.0               NaN         450000.0                     MONDAY   \n",
       "4    404055.0               NaN         337500.0                   THURSDAY   \n",
       "\n",
       "   HOUR_APPR_PROCESS_START  ... NAME_SELLER_INDUSTRY  CNT_PAYMENT  \\\n",
       "0                       15  ...         Connectivity         12.0   \n",
       "1                       11  ...                  XNA         36.0   \n",
       "2                       11  ...                  XNA         12.0   \n",
       "3                        7  ...                  XNA         12.0   \n",
       "4                        9  ...                  XNA         24.0   \n",
       "\n",
       "   NAME_YIELD_GROUP       PRODUCT_COMBINATION  DAYS_FIRST_DRAWING  \\\n",
       "0            middle  POS mobile with interest            365243.0   \n",
       "1        low_action          Cash X-Sell: low            365243.0   \n",
       "2              high         Cash X-Sell: high            365243.0   \n",
       "3            middle       Cash X-Sell: middle            365243.0   \n",
       "4              high         Cash Street: high                 NaN   \n",
       "\n",
       "  DAYS_FIRST_DUE DAYS_LAST_DUE_1ST_VERSION  DAYS_LAST_DUE DAYS_TERMINATION  \\\n",
       "0          -42.0                     300.0          -42.0            -37.0   \n",
       "1         -134.0                     916.0       365243.0         365243.0   \n",
       "2         -271.0                      59.0       365243.0         365243.0   \n",
       "3         -482.0                    -152.0         -182.0           -177.0   \n",
       "4            NaN                       NaN            NaN              NaN   \n",
       "\n",
       "  NFLAG_INSURED_ON_APPROVAL  \n",
       "0                       0.0  \n",
       "1                       1.0  \n",
       "2                       1.0  \n",
       "3                       1.0  \n",
       "4                       NaN  \n",
       "\n",
       "[5 rows x 37 columns]"
      ]
     },
     "execution_count": 6,
     "metadata": {},
     "output_type": "execute_result"
    }
   ],
   "source": [
    "inp2=pd.read_csv(\"previous_application.csv\")\n",
    "inp2.head()"
   ]
  },
  {
   "cell_type": "code",
   "execution_count": 7,
   "id": "ec486e4d",
   "metadata": {},
   "outputs": [
    {
     "name": "stdout",
     "output_type": "stream",
     "text": [
      "<class 'pandas.core.frame.DataFrame'>\n",
      "RangeIndex: 1670214 entries, 0 to 1670213\n",
      "Data columns (total 37 columns):\n",
      " #   Column                       Non-Null Count    Dtype  \n",
      "---  ------                       --------------    -----  \n",
      " 0   SK_ID_PREV                   1670214 non-null  int64  \n",
      " 1   SK_ID_CURR                   1670214 non-null  int64  \n",
      " 2   NAME_CONTRACT_TYPE           1670214 non-null  object \n",
      " 3   AMT_ANNUITY                  1297979 non-null  float64\n",
      " 4   AMT_APPLICATION              1670214 non-null  float64\n",
      " 5   AMT_CREDIT                   1670213 non-null  float64\n",
      " 6   AMT_DOWN_PAYMENT             774370 non-null   float64\n",
      " 7   AMT_GOODS_PRICE              1284699 non-null  float64\n",
      " 8   WEEKDAY_APPR_PROCESS_START   1670214 non-null  object \n",
      " 9   HOUR_APPR_PROCESS_START      1670214 non-null  int64  \n",
      " 10  FLAG_LAST_APPL_PER_CONTRACT  1670214 non-null  object \n",
      " 11  NFLAG_LAST_APPL_IN_DAY       1670214 non-null  int64  \n",
      " 12  RATE_DOWN_PAYMENT            774370 non-null   float64\n",
      " 13  RATE_INTEREST_PRIMARY        5951 non-null     float64\n",
      " 14  RATE_INTEREST_PRIVILEGED     5951 non-null     float64\n",
      " 15  NAME_CASH_LOAN_PURPOSE       1670214 non-null  object \n",
      " 16  NAME_CONTRACT_STATUS         1670214 non-null  object \n",
      " 17  DAYS_DECISION                1670214 non-null  int64  \n",
      " 18  NAME_PAYMENT_TYPE            1670214 non-null  object \n",
      " 19  CODE_REJECT_REASON           1670214 non-null  object \n",
      " 20  NAME_TYPE_SUITE              849809 non-null   object \n",
      " 21  NAME_CLIENT_TYPE             1670214 non-null  object \n",
      " 22  NAME_GOODS_CATEGORY          1670214 non-null  object \n",
      " 23  NAME_PORTFOLIO               1670214 non-null  object \n",
      " 24  NAME_PRODUCT_TYPE            1670214 non-null  object \n",
      " 25  CHANNEL_TYPE                 1670214 non-null  object \n",
      " 26  SELLERPLACE_AREA             1670214 non-null  int64  \n",
      " 27  NAME_SELLER_INDUSTRY         1670214 non-null  object \n",
      " 28  CNT_PAYMENT                  1297984 non-null  float64\n",
      " 29  NAME_YIELD_GROUP             1670214 non-null  object \n",
      " 30  PRODUCT_COMBINATION          1669868 non-null  object \n",
      " 31  DAYS_FIRST_DRAWING           997149 non-null   float64\n",
      " 32  DAYS_FIRST_DUE               997149 non-null   float64\n",
      " 33  DAYS_LAST_DUE_1ST_VERSION    997149 non-null   float64\n",
      " 34  DAYS_LAST_DUE                997149 non-null   float64\n",
      " 35  DAYS_TERMINATION             997149 non-null   float64\n",
      " 36  NFLAG_INSURED_ON_APPROVAL    997149 non-null   float64\n",
      "dtypes: float64(15), int64(6), object(16)\n",
      "memory usage: 471.5+ MB\n"
     ]
    }
   ],
   "source": [
    "inp2.info()"
   ]
  },
  {
   "cell_type": "code",
   "execution_count": 8,
   "id": "0f678d0c",
   "metadata": {},
   "outputs": [
    {
     "name": "stdout",
     "output_type": "stream",
     "text": [
      "<class 'pandas.core.frame.DataFrame'>\n",
      "RangeIndex: 307511 entries, 0 to 307510\n",
      "Columns: 122 entries, SK_ID_CURR to AMT_REQ_CREDIT_BUREAU_YEAR\n",
      "dtypes: float64(65), int64(41), object(16)\n",
      "memory usage: 286.2+ MB\n"
     ]
    }
   ],
   "source": [
    "inp0.info()"
   ]
  },
  {
   "cell_type": "markdown",
   "id": "e8b1f28c",
   "metadata": {},
   "source": [
    "SK_ID_CURR is common in both application csv and the previous applicantion csv\n"
   ]
  },
  {
   "cell_type": "markdown",
   "id": "3c47a33f",
   "metadata": {},
   "source": [
    "Data Cleaning\n"
   ]
  },
  {
   "cell_type": "code",
   "execution_count": 9,
   "id": "38af10f3",
   "metadata": {},
   "outputs": [
    {
     "data": {
      "text/plain": [
       "SK_ID_PREV                           0\n",
       "SK_ID_CURR                           0\n",
       "NAME_CONTRACT_TYPE                   0\n",
       "AMT_ANNUITY                     372235\n",
       "AMT_APPLICATION                      0\n",
       "AMT_CREDIT                           1\n",
       "AMT_DOWN_PAYMENT                895844\n",
       "AMT_GOODS_PRICE                 385515\n",
       "WEEKDAY_APPR_PROCESS_START           0\n",
       "HOUR_APPR_PROCESS_START              0\n",
       "FLAG_LAST_APPL_PER_CONTRACT          0\n",
       "NFLAG_LAST_APPL_IN_DAY               0\n",
       "RATE_DOWN_PAYMENT               895844\n",
       "RATE_INTEREST_PRIMARY          1664263\n",
       "RATE_INTEREST_PRIVILEGED       1664263\n",
       "NAME_CASH_LOAN_PURPOSE               0\n",
       "NAME_CONTRACT_STATUS                 0\n",
       "DAYS_DECISION                        0\n",
       "NAME_PAYMENT_TYPE                    0\n",
       "CODE_REJECT_REASON                   0\n",
       "NAME_TYPE_SUITE                 820405\n",
       "NAME_CLIENT_TYPE                     0\n",
       "NAME_GOODS_CATEGORY                  0\n",
       "NAME_PORTFOLIO                       0\n",
       "NAME_PRODUCT_TYPE                    0\n",
       "CHANNEL_TYPE                         0\n",
       "SELLERPLACE_AREA                     0\n",
       "NAME_SELLER_INDUSTRY                 0\n",
       "CNT_PAYMENT                     372230\n",
       "NAME_YIELD_GROUP                     0\n",
       "PRODUCT_COMBINATION                346\n",
       "DAYS_FIRST_DRAWING              673065\n",
       "DAYS_FIRST_DUE                  673065\n",
       "DAYS_LAST_DUE_1ST_VERSION       673065\n",
       "DAYS_LAST_DUE                   673065\n",
       "DAYS_TERMINATION                673065\n",
       "NFLAG_INSURED_ON_APPROVAL       673065\n",
       "dtype: int64"
      ]
     },
     "execution_count": 9,
     "metadata": {},
     "output_type": "execute_result"
    }
   ],
   "source": [
    "inp2.isnull().sum()"
   ]
  },
  {
   "cell_type": "code",
   "execution_count": 10,
   "id": "cab7a245",
   "metadata": {},
   "outputs": [
    {
     "data": {
      "text/plain": [
       "RATE_INTEREST_PRIVILEGED     99.643698\n",
       "RATE_INTEREST_PRIMARY        99.643698\n",
       "AMT_DOWN_PAYMENT             53.636480\n",
       "RATE_DOWN_PAYMENT            53.636480\n",
       "NAME_TYPE_SUITE              49.119754\n",
       "NFLAG_INSURED_ON_APPROVAL    40.298129\n",
       "DAYS_TERMINATION             40.298129\n",
       "DAYS_LAST_DUE                40.298129\n",
       "DAYS_LAST_DUE_1ST_VERSION    40.298129\n",
       "DAYS_FIRST_DUE               40.298129\n",
       "dtype: float64"
      ]
     },
     "execution_count": 10,
     "metadata": {},
     "output_type": "execute_result"
    }
   ],
   "source": [
    "percent_missing = inp2.isnull().sum()*100/len(inp2) \n",
    "percent_missing.sort_values(ascending=False).head(10)"
   ]
  },
  {
   "cell_type": "markdown",
   "id": "200b426a",
   "metadata": {},
   "source": [
    "Removing missing >40%"
   ]
  },
  {
   "cell_type": "code",
   "execution_count": 11,
   "id": "8d02ecdc",
   "metadata": {},
   "outputs": [],
   "source": [
    "inp2=inp2.drop([\"RATE_INTEREST_PRIVILEGED\",\"RATE_INTEREST_PRIMARY\",\"AMT_DOWN_PAYMENT\",\"RATE_DOWN_PAYMENT\",\"NAME_TYPE_SUITE\"],axis=1)"
   ]
  },
  {
   "cell_type": "code",
   "execution_count": 12,
   "id": "a6b7c5b6",
   "metadata": {},
   "outputs": [
    {
     "data": {
      "text/plain": [
       "(1670214, 32)"
      ]
     },
     "execution_count": 12,
     "metadata": {},
     "output_type": "execute_result"
    }
   ],
   "source": [
    "inp2.shape"
   ]
  },
  {
   "cell_type": "code",
   "execution_count": 13,
   "id": "7f67516f",
   "metadata": {},
   "outputs": [
    {
     "data": {
      "text/plain": [
       "SK_ID_PREV                      0.000000\n",
       "NAME_YIELD_GROUP                0.000000\n",
       "NAME_SELLER_INDUSTRY            0.000000\n",
       "SELLERPLACE_AREA                0.000000\n",
       "CHANNEL_TYPE                    0.000000\n",
       "NAME_PRODUCT_TYPE               0.000000\n",
       "NAME_PORTFOLIO                  0.000000\n",
       "NAME_GOODS_CATEGORY             0.000000\n",
       "NAME_CLIENT_TYPE                0.000000\n",
       "NAME_PAYMENT_TYPE               0.000000\n",
       "DAYS_DECISION                   0.000000\n",
       "NAME_CONTRACT_STATUS            0.000000\n",
       "CODE_REJECT_REASON              0.000000\n",
       "NFLAG_LAST_APPL_IN_DAY          0.000000\n",
       "SK_ID_CURR                      0.000000\n",
       "NAME_CASH_LOAN_PURPOSE          0.000000\n",
       "AMT_APPLICATION                 0.000000\n",
       "NAME_CONTRACT_TYPE              0.000000\n",
       "HOUR_APPR_PROCESS_START         0.000000\n",
       "FLAG_LAST_APPL_PER_CONTRACT     0.000000\n",
       "WEEKDAY_APPR_PROCESS_START      0.000000\n",
       "AMT_CREDIT                      0.000060\n",
       "PRODUCT_COMBINATION             0.020716\n",
       "CNT_PAYMENT                    22.286366\n",
       "AMT_ANNUITY                    22.286665\n",
       "AMT_GOODS_PRICE                23.081773\n",
       "DAYS_TERMINATION               40.298129\n",
       "DAYS_FIRST_DRAWING             40.298129\n",
       "DAYS_FIRST_DUE                 40.298129\n",
       "DAYS_LAST_DUE_1ST_VERSION      40.298129\n",
       "DAYS_LAST_DUE                  40.298129\n",
       "NFLAG_INSURED_ON_APPROVAL      40.298129\n",
       "dtype: float64"
      ]
     },
     "execution_count": 13,
     "metadata": {},
     "output_type": "execute_result"
    }
   ],
   "source": [
    "percent_missing = inp2.isnull().sum()*100/len(inp2) \n",
    "percent_missing.sort_values()"
   ]
  },
  {
   "cell_type": "code",
   "execution_count": 14,
   "id": "38ba3bd6",
   "metadata": {},
   "outputs": [
    {
     "data": {
      "text/plain": [
       "1"
      ]
     },
     "execution_count": 14,
     "metadata": {},
     "output_type": "execute_result"
    }
   ],
   "source": [
    "inp2.AMT_CREDIT.isnull().sum()"
   ]
  },
  {
   "cell_type": "code",
   "execution_count": 15,
   "id": "d7aab38c",
   "metadata": {},
   "outputs": [
    {
     "data": {
      "text/plain": [
       "0.0002071590826085759"
      ]
     },
     "execution_count": 15,
     "metadata": {},
     "output_type": "execute_result"
    }
   ],
   "source": [
    "inp2.PRODUCT_COMBINATION.isnull().sum()/len(inp2.PRODUCT_COMBINATION)"
   ]
  },
  {
   "cell_type": "markdown",
   "id": "1bb72c2f",
   "metadata": {},
   "source": [
    "Since the missing values in AMT_CREDIT and PRODUCT_COMBINATION are low we can just drop the missing values"
   ]
  },
  {
   "cell_type": "code",
   "execution_count": 16,
   "id": "8c908882",
   "metadata": {},
   "outputs": [],
   "source": [
    "inp2.dropna(subset=['AMT_CREDIT','PRODUCT_COMBINATION'], inplace=True)"
   ]
  },
  {
   "cell_type": "code",
   "execution_count": 17,
   "id": "b8c81e03",
   "metadata": {},
   "outputs": [
    {
     "data": {
      "text/plain": [
       "0"
      ]
     },
     "execution_count": 17,
     "metadata": {},
     "output_type": "execute_result"
    }
   ],
   "source": [
    "inp2.AMT_CREDIT.isnull().sum()"
   ]
  },
  {
   "cell_type": "code",
   "execution_count": 18,
   "id": "45d5cb16",
   "metadata": {},
   "outputs": [
    {
     "data": {
      "text/plain": [
       "0"
      ]
     },
     "execution_count": 18,
     "metadata": {},
     "output_type": "execute_result"
    }
   ],
   "source": [
    "inp2.PRODUCT_COMBINATION.isnull().sum()"
   ]
  },
  {
   "cell_type": "code",
   "execution_count": 19,
   "id": "aadad9c2",
   "metadata": {},
   "outputs": [
    {
     "data": {
      "text/plain": [
       "0    0.0\n",
       "1    1.0\n",
       "2    1.0\n",
       "3    1.0\n",
       "4    NaN\n",
       "Name: NFLAG_INSURED_ON_APPROVAL, dtype: float64"
      ]
     },
     "execution_count": 19,
     "metadata": {},
     "output_type": "execute_result"
    }
   ],
   "source": [
    "inp2.NFLAG_INSURED_ON_APPROVAL.head()"
   ]
  },
  {
   "cell_type": "code",
   "execution_count": 20,
   "id": "3fdc7082",
   "metadata": {},
   "outputs": [],
   "source": [
    "inp1.drop('Unnamed: 0',axis=1, inplace= True)"
   ]
  },
  {
   "cell_type": "code",
   "execution_count": null,
   "id": "66320601",
   "metadata": {},
   "outputs": [],
   "source": []
  },
  {
   "cell_type": "code",
   "execution_count": 21,
   "id": "9147757c",
   "metadata": {},
   "outputs": [
    {
     "data": {
      "text/html": [
       "<div>\n",
       "<style scoped>\n",
       "    .dataframe tbody tr th:only-of-type {\n",
       "        vertical-align: middle;\n",
       "    }\n",
       "\n",
       "    .dataframe tbody tr th {\n",
       "        vertical-align: top;\n",
       "    }\n",
       "\n",
       "    .dataframe thead th {\n",
       "        text-align: right;\n",
       "    }\n",
       "</style>\n",
       "<table border=\"1\" class=\"dataframe\">\n",
       "  <thead>\n",
       "    <tr style=\"text-align: right;\">\n",
       "      <th></th>\n",
       "      <th>SK_ID_PREV</th>\n",
       "      <th>SK_ID_CURR</th>\n",
       "      <th>NAME_CONTRACT_TYPE</th>\n",
       "      <th>AMT_ANNUITY</th>\n",
       "      <th>AMT_APPLICATION</th>\n",
       "      <th>AMT_CREDIT</th>\n",
       "      <th>AMT_GOODS_PRICE</th>\n",
       "      <th>WEEKDAY_APPR_PROCESS_START</th>\n",
       "      <th>HOUR_APPR_PROCESS_START</th>\n",
       "      <th>FLAG_LAST_APPL_PER_CONTRACT</th>\n",
       "      <th>...</th>\n",
       "      <th>NAME_SELLER_INDUSTRY</th>\n",
       "      <th>CNT_PAYMENT</th>\n",
       "      <th>NAME_YIELD_GROUP</th>\n",
       "      <th>PRODUCT_COMBINATION</th>\n",
       "      <th>DAYS_FIRST_DRAWING</th>\n",
       "      <th>DAYS_FIRST_DUE</th>\n",
       "      <th>DAYS_LAST_DUE_1ST_VERSION</th>\n",
       "      <th>DAYS_LAST_DUE</th>\n",
       "      <th>DAYS_TERMINATION</th>\n",
       "      <th>NFLAG_INSURED_ON_APPROVAL</th>\n",
       "    </tr>\n",
       "  </thead>\n",
       "  <tbody>\n",
       "    <tr>\n",
       "      <th>0</th>\n",
       "      <td>2030495</td>\n",
       "      <td>271877</td>\n",
       "      <td>Consumer loans</td>\n",
       "      <td>1730.430</td>\n",
       "      <td>17145.0</td>\n",
       "      <td>17145.0</td>\n",
       "      <td>17145.0</td>\n",
       "      <td>SATURDAY</td>\n",
       "      <td>15</td>\n",
       "      <td>Y</td>\n",
       "      <td>...</td>\n",
       "      <td>Connectivity</td>\n",
       "      <td>12.0</td>\n",
       "      <td>middle</td>\n",
       "      <td>POS mobile with interest</td>\n",
       "      <td>365243.0</td>\n",
       "      <td>-42.0</td>\n",
       "      <td>300.0</td>\n",
       "      <td>-42.0</td>\n",
       "      <td>-37.0</td>\n",
       "      <td>0.0</td>\n",
       "    </tr>\n",
       "    <tr>\n",
       "      <th>13</th>\n",
       "      <td>1397919</td>\n",
       "      <td>321676</td>\n",
       "      <td>Consumer loans</td>\n",
       "      <td>7654.860</td>\n",
       "      <td>53779.5</td>\n",
       "      <td>57564.0</td>\n",
       "      <td>53779.5</td>\n",
       "      <td>SUNDAY</td>\n",
       "      <td>15</td>\n",
       "      <td>Y</td>\n",
       "      <td>...</td>\n",
       "      <td>Consumer electronics</td>\n",
       "      <td>8.0</td>\n",
       "      <td>low_action</td>\n",
       "      <td>POS household without interest</td>\n",
       "      <td>365243.0</td>\n",
       "      <td>-378.0</td>\n",
       "      <td>-168.0</td>\n",
       "      <td>-168.0</td>\n",
       "      <td>-163.0</td>\n",
       "      <td>1.0</td>\n",
       "    </tr>\n",
       "    <tr>\n",
       "      <th>14</th>\n",
       "      <td>2273188</td>\n",
       "      <td>270658</td>\n",
       "      <td>Consumer loans</td>\n",
       "      <td>9644.220</td>\n",
       "      <td>26550.0</td>\n",
       "      <td>27252.0</td>\n",
       "      <td>26550.0</td>\n",
       "      <td>SATURDAY</td>\n",
       "      <td>10</td>\n",
       "      <td>Y</td>\n",
       "      <td>...</td>\n",
       "      <td>Consumer electronics</td>\n",
       "      <td>3.0</td>\n",
       "      <td>middle</td>\n",
       "      <td>POS household with interest</td>\n",
       "      <td>365243.0</td>\n",
       "      <td>-693.0</td>\n",
       "      <td>-633.0</td>\n",
       "      <td>-633.0</td>\n",
       "      <td>-627.0</td>\n",
       "      <td>0.0</td>\n",
       "    </tr>\n",
       "    <tr>\n",
       "      <th>15</th>\n",
       "      <td>1232483</td>\n",
       "      <td>151612</td>\n",
       "      <td>Consumer loans</td>\n",
       "      <td>21307.455</td>\n",
       "      <td>126490.5</td>\n",
       "      <td>119853.0</td>\n",
       "      <td>126490.5</td>\n",
       "      <td>TUESDAY</td>\n",
       "      <td>7</td>\n",
       "      <td>Y</td>\n",
       "      <td>...</td>\n",
       "      <td>Industry</td>\n",
       "      <td>6.0</td>\n",
       "      <td>low_normal</td>\n",
       "      <td>POS other with interest</td>\n",
       "      <td>365243.0</td>\n",
       "      <td>-668.0</td>\n",
       "      <td>-518.0</td>\n",
       "      <td>-518.0</td>\n",
       "      <td>-512.0</td>\n",
       "      <td>0.0</td>\n",
       "    </tr>\n",
       "    <tr>\n",
       "      <th>16</th>\n",
       "      <td>2163253</td>\n",
       "      <td>154602</td>\n",
       "      <td>Consumer loans</td>\n",
       "      <td>4187.340</td>\n",
       "      <td>26955.0</td>\n",
       "      <td>27297.0</td>\n",
       "      <td>26955.0</td>\n",
       "      <td>SATURDAY</td>\n",
       "      <td>12</td>\n",
       "      <td>Y</td>\n",
       "      <td>...</td>\n",
       "      <td>Consumer electronics</td>\n",
       "      <td>8.0</td>\n",
       "      <td>high</td>\n",
       "      <td>POS household with interest</td>\n",
       "      <td>365243.0</td>\n",
       "      <td>-1440.0</td>\n",
       "      <td>-1230.0</td>\n",
       "      <td>-1230.0</td>\n",
       "      <td>-1226.0</td>\n",
       "      <td>0.0</td>\n",
       "    </tr>\n",
       "    <tr>\n",
       "      <th>...</th>\n",
       "      <td>...</td>\n",
       "      <td>...</td>\n",
       "      <td>...</td>\n",
       "      <td>...</td>\n",
       "      <td>...</td>\n",
       "      <td>...</td>\n",
       "      <td>...</td>\n",
       "      <td>...</td>\n",
       "      <td>...</td>\n",
       "      <td>...</td>\n",
       "      <td>...</td>\n",
       "      <td>...</td>\n",
       "      <td>...</td>\n",
       "      <td>...</td>\n",
       "      <td>...</td>\n",
       "      <td>...</td>\n",
       "      <td>...</td>\n",
       "      <td>...</td>\n",
       "      <td>...</td>\n",
       "      <td>...</td>\n",
       "      <td>...</td>\n",
       "    </tr>\n",
       "    <tr>\n",
       "      <th>1670202</th>\n",
       "      <td>2205099</td>\n",
       "      <td>157707</td>\n",
       "      <td>Consumer loans</td>\n",
       "      <td>4334.355</td>\n",
       "      <td>22207.5</td>\n",
       "      <td>23854.5</td>\n",
       "      <td>22207.5</td>\n",
       "      <td>THURSDAY</td>\n",
       "      <td>10</td>\n",
       "      <td>Y</td>\n",
       "      <td>...</td>\n",
       "      <td>Clothing</td>\n",
       "      <td>6.0</td>\n",
       "      <td>middle</td>\n",
       "      <td>POS industry with interest</td>\n",
       "      <td>365243.0</td>\n",
       "      <td>-948.0</td>\n",
       "      <td>-798.0</td>\n",
       "      <td>-858.0</td>\n",
       "      <td>-850.0</td>\n",
       "      <td>0.0</td>\n",
       "    </tr>\n",
       "    <tr>\n",
       "      <th>1670203</th>\n",
       "      <td>2844282</td>\n",
       "      <td>383898</td>\n",
       "      <td>Consumer loans</td>\n",
       "      <td>NaN</td>\n",
       "      <td>14791.5</td>\n",
       "      <td>14791.5</td>\n",
       "      <td>14791.5</td>\n",
       "      <td>TUESDAY</td>\n",
       "      <td>13</td>\n",
       "      <td>Y</td>\n",
       "      <td>...</td>\n",
       "      <td>Connectivity</td>\n",
       "      <td>NaN</td>\n",
       "      <td>XNA</td>\n",
       "      <td>POS mobile with interest</td>\n",
       "      <td>NaN</td>\n",
       "      <td>NaN</td>\n",
       "      <td>NaN</td>\n",
       "      <td>NaN</td>\n",
       "      <td>NaN</td>\n",
       "      <td>NaN</td>\n",
       "    </tr>\n",
       "    <tr>\n",
       "      <th>1670209</th>\n",
       "      <td>2300464</td>\n",
       "      <td>352015</td>\n",
       "      <td>Consumer loans</td>\n",
       "      <td>14704.290</td>\n",
       "      <td>267295.5</td>\n",
       "      <td>311400.0</td>\n",
       "      <td>267295.5</td>\n",
       "      <td>WEDNESDAY</td>\n",
       "      <td>12</td>\n",
       "      <td>Y</td>\n",
       "      <td>...</td>\n",
       "      <td>Furniture</td>\n",
       "      <td>30.0</td>\n",
       "      <td>low_normal</td>\n",
       "      <td>POS industry with interest</td>\n",
       "      <td>365243.0</td>\n",
       "      <td>-508.0</td>\n",
       "      <td>362.0</td>\n",
       "      <td>-358.0</td>\n",
       "      <td>-351.0</td>\n",
       "      <td>0.0</td>\n",
       "    </tr>\n",
       "    <tr>\n",
       "      <th>1670210</th>\n",
       "      <td>2357031</td>\n",
       "      <td>334635</td>\n",
       "      <td>Consumer loans</td>\n",
       "      <td>6622.020</td>\n",
       "      <td>87750.0</td>\n",
       "      <td>64291.5</td>\n",
       "      <td>87750.0</td>\n",
       "      <td>TUESDAY</td>\n",
       "      <td>15</td>\n",
       "      <td>Y</td>\n",
       "      <td>...</td>\n",
       "      <td>Furniture</td>\n",
       "      <td>12.0</td>\n",
       "      <td>middle</td>\n",
       "      <td>POS industry with interest</td>\n",
       "      <td>365243.0</td>\n",
       "      <td>-1604.0</td>\n",
       "      <td>-1274.0</td>\n",
       "      <td>-1304.0</td>\n",
       "      <td>-1297.0</td>\n",
       "      <td>0.0</td>\n",
       "    </tr>\n",
       "    <tr>\n",
       "      <th>1670211</th>\n",
       "      <td>2659632</td>\n",
       "      <td>249544</td>\n",
       "      <td>Consumer loans</td>\n",
       "      <td>11520.855</td>\n",
       "      <td>105237.0</td>\n",
       "      <td>102523.5</td>\n",
       "      <td>105237.0</td>\n",
       "      <td>MONDAY</td>\n",
       "      <td>12</td>\n",
       "      <td>Y</td>\n",
       "      <td>...</td>\n",
       "      <td>Consumer electronics</td>\n",
       "      <td>10.0</td>\n",
       "      <td>low_normal</td>\n",
       "      <td>POS household with interest</td>\n",
       "      <td>365243.0</td>\n",
       "      <td>-1457.0</td>\n",
       "      <td>-1187.0</td>\n",
       "      <td>-1187.0</td>\n",
       "      <td>-1181.0</td>\n",
       "      <td>0.0</td>\n",
       "    </tr>\n",
       "  </tbody>\n",
       "</table>\n",
       "<p>922314 rows × 32 columns</p>\n",
       "</div>"
      ],
      "text/plain": [
       "         SK_ID_PREV  SK_ID_CURR NAME_CONTRACT_TYPE  AMT_ANNUITY  \\\n",
       "0           2030495      271877     Consumer loans     1730.430   \n",
       "13          1397919      321676     Consumer loans     7654.860   \n",
       "14          2273188      270658     Consumer loans     9644.220   \n",
       "15          1232483      151612     Consumer loans    21307.455   \n",
       "16          2163253      154602     Consumer loans     4187.340   \n",
       "...             ...         ...                ...          ...   \n",
       "1670202     2205099      157707     Consumer loans     4334.355   \n",
       "1670203     2844282      383898     Consumer loans          NaN   \n",
       "1670209     2300464      352015     Consumer loans    14704.290   \n",
       "1670210     2357031      334635     Consumer loans     6622.020   \n",
       "1670211     2659632      249544     Consumer loans    11520.855   \n",
       "\n",
       "         AMT_APPLICATION  AMT_CREDIT  AMT_GOODS_PRICE  \\\n",
       "0                17145.0     17145.0          17145.0   \n",
       "13               53779.5     57564.0          53779.5   \n",
       "14               26550.0     27252.0          26550.0   \n",
       "15              126490.5    119853.0         126490.5   \n",
       "16               26955.0     27297.0          26955.0   \n",
       "...                  ...         ...              ...   \n",
       "1670202          22207.5     23854.5          22207.5   \n",
       "1670203          14791.5     14791.5          14791.5   \n",
       "1670209         267295.5    311400.0         267295.5   \n",
       "1670210          87750.0     64291.5          87750.0   \n",
       "1670211         105237.0    102523.5         105237.0   \n",
       "\n",
       "        WEEKDAY_APPR_PROCESS_START  HOUR_APPR_PROCESS_START  \\\n",
       "0                         SATURDAY                       15   \n",
       "13                          SUNDAY                       15   \n",
       "14                        SATURDAY                       10   \n",
       "15                         TUESDAY                        7   \n",
       "16                        SATURDAY                       12   \n",
       "...                            ...                      ...   \n",
       "1670202                   THURSDAY                       10   \n",
       "1670203                    TUESDAY                       13   \n",
       "1670209                  WEDNESDAY                       12   \n",
       "1670210                    TUESDAY                       15   \n",
       "1670211                     MONDAY                       12   \n",
       "\n",
       "        FLAG_LAST_APPL_PER_CONTRACT  ...  NAME_SELLER_INDUSTRY CNT_PAYMENT  \\\n",
       "0                                 Y  ...          Connectivity        12.0   \n",
       "13                                Y  ...  Consumer electronics         8.0   \n",
       "14                                Y  ...  Consumer electronics         3.0   \n",
       "15                                Y  ...              Industry         6.0   \n",
       "16                                Y  ...  Consumer electronics         8.0   \n",
       "...                             ...  ...                   ...         ...   \n",
       "1670202                           Y  ...              Clothing         6.0   \n",
       "1670203                           Y  ...          Connectivity         NaN   \n",
       "1670209                           Y  ...             Furniture        30.0   \n",
       "1670210                           Y  ...             Furniture        12.0   \n",
       "1670211                           Y  ...  Consumer electronics        10.0   \n",
       "\n",
       "        NAME_YIELD_GROUP             PRODUCT_COMBINATION DAYS_FIRST_DRAWING  \\\n",
       "0                 middle        POS mobile with interest           365243.0   \n",
       "13            low_action  POS household without interest           365243.0   \n",
       "14                middle     POS household with interest           365243.0   \n",
       "15            low_normal         POS other with interest           365243.0   \n",
       "16                  high     POS household with interest           365243.0   \n",
       "...                  ...                             ...                ...   \n",
       "1670202           middle      POS industry with interest           365243.0   \n",
       "1670203              XNA        POS mobile with interest                NaN   \n",
       "1670209       low_normal      POS industry with interest           365243.0   \n",
       "1670210           middle      POS industry with interest           365243.0   \n",
       "1670211       low_normal     POS household with interest           365243.0   \n",
       "\n",
       "        DAYS_FIRST_DUE DAYS_LAST_DUE_1ST_VERSION DAYS_LAST_DUE  \\\n",
       "0                -42.0                     300.0         -42.0   \n",
       "13              -378.0                    -168.0        -168.0   \n",
       "14              -693.0                    -633.0        -633.0   \n",
       "15              -668.0                    -518.0        -518.0   \n",
       "16             -1440.0                   -1230.0       -1230.0   \n",
       "...                ...                       ...           ...   \n",
       "1670202         -948.0                    -798.0        -858.0   \n",
       "1670203            NaN                       NaN           NaN   \n",
       "1670209         -508.0                     362.0        -358.0   \n",
       "1670210        -1604.0                   -1274.0       -1304.0   \n",
       "1670211        -1457.0                   -1187.0       -1187.0   \n",
       "\n",
       "        DAYS_TERMINATION NFLAG_INSURED_ON_APPROVAL  \n",
       "0                  -37.0                       0.0  \n",
       "13                -163.0                       1.0  \n",
       "14                -627.0                       0.0  \n",
       "15                -512.0                       0.0  \n",
       "16               -1226.0                       0.0  \n",
       "...                  ...                       ...  \n",
       "1670202           -850.0                       0.0  \n",
       "1670203              NaN                       NaN  \n",
       "1670209           -351.0                       0.0  \n",
       "1670210          -1297.0                       0.0  \n",
       "1670211          -1181.0                       0.0  \n",
       "\n",
       "[922314 rows x 32 columns]"
      ]
     },
     "execution_count": 21,
     "metadata": {},
     "output_type": "execute_result"
    }
   ],
   "source": [
    "inp2[inp2.NAME_CASH_LOAN_PURPOSE==\"XAP\"]"
   ]
  },
  {
   "cell_type": "code",
   "execution_count": 22,
   "id": "a58af41d",
   "metadata": {},
   "outputs": [],
   "source": [
    "inp2=inp2[~(inp2.NAME_CASH_LOAN_PURPOSE==\"XAP\")]"
   ]
  },
  {
   "cell_type": "code",
   "execution_count": 23,
   "id": "eb9a7457",
   "metadata": {},
   "outputs": [
    {
     "data": {
      "text/plain": [
       "count     747553\n",
       "unique        24\n",
       "top          XNA\n",
       "freq      677918\n",
       "Name: NAME_CASH_LOAN_PURPOSE, dtype: object"
      ]
     },
     "execution_count": 23,
     "metadata": {},
     "output_type": "execute_result"
    }
   ],
   "source": [
    "inp2.NAME_CASH_LOAN_PURPOSE.describe()"
   ]
  },
  {
   "cell_type": "code",
   "execution_count": 24,
   "id": "85eccadc",
   "metadata": {},
   "outputs": [],
   "source": [
    "inp2=inp2[~(inp2.NAME_CASH_LOAN_PURPOSE==\"XNA\")]"
   ]
  },
  {
   "cell_type": "code",
   "execution_count": 25,
   "id": "1cd49b51",
   "metadata": {},
   "outputs": [
    {
     "data": {
      "text/plain": [
       "count       69635\n",
       "unique         23\n",
       "top       Repairs\n",
       "freq        23765\n",
       "Name: NAME_CASH_LOAN_PURPOSE, dtype: object"
      ]
     },
     "execution_count": 25,
     "metadata": {},
     "output_type": "execute_result"
    }
   ],
   "source": [
    "inp2.NAME_CASH_LOAN_PURPOSE.describe()"
   ]
  },
  {
   "cell_type": "code",
   "execution_count": 26,
   "id": "04c69fd0",
   "metadata": {},
   "outputs": [
    {
     "name": "stdout",
     "output_type": "stream",
     "text": [
      "<class 'pandas.core.frame.DataFrame'>\n",
      "Int64Index: 331007 entries, 0 to 331006\n",
      "Data columns (total 33 columns):\n",
      " #   Column                       Non-Null Count   Dtype  \n",
      "---  ------                       --------------   -----  \n",
      " 0   SK_ID_CURR                   331007 non-null  int64  \n",
      " 1   TARGET                       331007 non-null  int64  \n",
      " 2   SK_ID_PREV                   59413 non-null   float64\n",
      " 3   NAME_CONTRACT_TYPE           59413 non-null   object \n",
      " 4   AMT_ANNUITY                  59179 non-null   float64\n",
      " 5   AMT_APPLICATION              59413 non-null   float64\n",
      " 6   AMT_CREDIT                   59413 non-null   float64\n",
      " 7   AMT_GOODS_PRICE              59413 non-null   float64\n",
      " 8   WEEKDAY_APPR_PROCESS_START   59413 non-null   object \n",
      " 9   HOUR_APPR_PROCESS_START      59413 non-null   float64\n",
      " 10  FLAG_LAST_APPL_PER_CONTRACT  59413 non-null   object \n",
      " 11  NFLAG_LAST_APPL_IN_DAY       59413 non-null   float64\n",
      " 12  NAME_CASH_LOAN_PURPOSE       59413 non-null   object \n",
      " 13  NAME_CONTRACT_STATUS         59413 non-null   object \n",
      " 14  DAYS_DECISION                59413 non-null   float64\n",
      " 15  NAME_PAYMENT_TYPE            59413 non-null   object \n",
      " 16  CODE_REJECT_REASON           59413 non-null   object \n",
      " 17  NAME_CLIENT_TYPE             59413 non-null   object \n",
      " 18  NAME_GOODS_CATEGORY          59413 non-null   object \n",
      " 19  NAME_PORTFOLIO               59413 non-null   object \n",
      " 20  NAME_PRODUCT_TYPE            59413 non-null   object \n",
      " 21  CHANNEL_TYPE                 59413 non-null   object \n",
      " 22  SELLERPLACE_AREA             59413 non-null   float64\n",
      " 23  NAME_SELLER_INDUSTRY         59413 non-null   object \n",
      " 24  CNT_PAYMENT                  59179 non-null   float64\n",
      " 25  NAME_YIELD_GROUP             59413 non-null   object \n",
      " 26  PRODUCT_COMBINATION          59413 non-null   object \n",
      " 27  DAYS_FIRST_DRAWING           21142 non-null   float64\n",
      " 28  DAYS_FIRST_DUE               21142 non-null   float64\n",
      " 29  DAYS_LAST_DUE_1ST_VERSION    21142 non-null   float64\n",
      " 30  DAYS_LAST_DUE                21142 non-null   float64\n",
      " 31  DAYS_TERMINATION             21142 non-null   float64\n",
      " 32  NFLAG_INSURED_ON_APPROVAL    21142 non-null   float64\n",
      "dtypes: float64(16), int64(2), object(15)\n",
      "memory usage: 85.9+ MB\n"
     ]
    }
   ],
   "source": [
    "merged_dsets = pd.merge(inp0[['SK_ID_CURR', 'TARGET']], inp2, how='left', on=['SK_ID_CURR'])\n",
    "\n",
    "merged_dsets.info()"
   ]
  },
  {
   "cell_type": "code",
   "execution_count": 42,
   "id": "815c2045",
   "metadata": {},
   "outputs": [],
   "source": [
    "target_m_1=merged_dsets[merged_dsets.TARGET==1]\n",
    "target_m_0=merged_dsets[merged_dsets.TARGET==0]"
   ]
  },
  {
   "cell_type": "code",
   "execution_count": 27,
   "id": "503ffa6d",
   "metadata": {},
   "outputs": [
    {
     "data": {
      "text/plain": [
       "count       59413\n",
       "unique         23\n",
       "top       Repairs\n",
       "freq        20117\n",
       "Name: NAME_CASH_LOAN_PURPOSE, dtype: object"
      ]
     },
     "execution_count": 27,
     "metadata": {},
     "output_type": "execute_result"
    }
   ],
   "source": [
    "merged_dsets.NAME_CASH_LOAN_PURPOSE.describe()"
   ]
  },
  {
   "cell_type": "markdown",
   "id": "392e2e1e",
   "metadata": {},
   "source": [
    "Handling Outliers"
   ]
  },
  {
   "cell_type": "code",
   "execution_count": 28,
   "id": "7cffcda9",
   "metadata": {},
   "outputs": [
    {
     "data": {
      "image/png": "[encoded data removed]",
      "text/plain": [
       "<Figure size 720x288 with 1 Axes>"
      ]
     },
     "metadata": {
      "needs_background": "light"
     },
     "output_type": "display_data"
    }
   ],
   "source": [
    "plt.figure(figsize=[10,4])\n",
    "sns.boxplot(merged_dsets['AMT_ANNUITY'])\n",
    "plt.show()"
   ]
  },
  {
   "cell_type": "code",
   "execution_count": 29,
   "id": "95e47e4a",
   "metadata": {},
   "outputs": [
    {
     "data": {
      "text/html": [
       "<div>\n",
       "<style scoped>\n",
       "    .dataframe tbody tr th:only-of-type {\n",
       "        vertical-align: middle;\n",
       "    }\n",
       "\n",
       "    .dataframe tbody tr th {\n",
       "        vertical-align: top;\n",
       "    }\n",
       "\n",
       "    .dataframe thead th {\n",
       "        text-align: right;\n",
       "    }\n",
       "</style>\n",
       "<table border=\"1\" class=\"dataframe\">\n",
       "  <thead>\n",
       "    <tr style=\"text-align: right;\">\n",
       "      <th></th>\n",
       "      <th>SK_ID_CURR</th>\n",
       "      <th>TARGET</th>\n",
       "      <th>SK_ID_PREV</th>\n",
       "      <th>NAME_CONTRACT_TYPE</th>\n",
       "      <th>AMT_ANNUITY</th>\n",
       "      <th>AMT_APPLICATION</th>\n",
       "      <th>AMT_CREDIT</th>\n",
       "      <th>AMT_GOODS_PRICE</th>\n",
       "      <th>WEEKDAY_APPR_PROCESS_START</th>\n",
       "      <th>HOUR_APPR_PROCESS_START</th>\n",
       "      <th>...</th>\n",
       "      <th>NAME_SELLER_INDUSTRY</th>\n",
       "      <th>CNT_PAYMENT</th>\n",
       "      <th>NAME_YIELD_GROUP</th>\n",
       "      <th>PRODUCT_COMBINATION</th>\n",
       "      <th>DAYS_FIRST_DRAWING</th>\n",
       "      <th>DAYS_FIRST_DUE</th>\n",
       "      <th>DAYS_LAST_DUE_1ST_VERSION</th>\n",
       "      <th>DAYS_LAST_DUE</th>\n",
       "      <th>DAYS_TERMINATION</th>\n",
       "      <th>NFLAG_INSURED_ON_APPROVAL</th>\n",
       "    </tr>\n",
       "  </thead>\n",
       "  <tbody>\n",
       "    <tr>\n",
       "      <th>128983</th>\n",
       "      <td>238970</td>\n",
       "      <td>0</td>\n",
       "      <td>2501351.0</td>\n",
       "      <td>Cash loans</td>\n",
       "      <td>418058.145</td>\n",
       "      <td>2250000.0</td>\n",
       "      <td>2369070.0</td>\n",
       "      <td>2250000.0</td>\n",
       "      <td>FRIDAY</td>\n",
       "      <td>11.0</td>\n",
       "      <td>...</td>\n",
       "      <td>XNA</td>\n",
       "      <td>6.0</td>\n",
       "      <td>low_action</td>\n",
       "      <td>Cash Street: low</td>\n",
       "      <td>NaN</td>\n",
       "      <td>NaN</td>\n",
       "      <td>NaN</td>\n",
       "      <td>NaN</td>\n",
       "      <td>NaN</td>\n",
       "      <td>NaN</td>\n",
       "    </tr>\n",
       "    <tr>\n",
       "      <th>211374</th>\n",
       "      <td>327696</td>\n",
       "      <td>0</td>\n",
       "      <td>1314599.0</td>\n",
       "      <td>Cash loans</td>\n",
       "      <td>417927.645</td>\n",
       "      <td>2250000.0</td>\n",
       "      <td>2369070.0</td>\n",
       "      <td>2250000.0</td>\n",
       "      <td>TUESDAY</td>\n",
       "      <td>18.0</td>\n",
       "      <td>...</td>\n",
       "      <td>XNA</td>\n",
       "      <td>6.0</td>\n",
       "      <td>low_action</td>\n",
       "      <td>Cash Street: low</td>\n",
       "      <td>NaN</td>\n",
       "      <td>NaN</td>\n",
       "      <td>NaN</td>\n",
       "      <td>NaN</td>\n",
       "      <td>NaN</td>\n",
       "      <td>NaN</td>\n",
       "    </tr>\n",
       "    <tr>\n",
       "      <th>246412</th>\n",
       "      <td>365299</td>\n",
       "      <td>0</td>\n",
       "      <td>1225459.0</td>\n",
       "      <td>Cash loans</td>\n",
       "      <td>418058.145</td>\n",
       "      <td>2250000.0</td>\n",
       "      <td>2369070.0</td>\n",
       "      <td>2250000.0</td>\n",
       "      <td>MONDAY</td>\n",
       "      <td>10.0</td>\n",
       "      <td>...</td>\n",
       "      <td>XNA</td>\n",
       "      <td>6.0</td>\n",
       "      <td>low_action</td>\n",
       "      <td>Cash Street: low</td>\n",
       "      <td>NaN</td>\n",
       "      <td>NaN</td>\n",
       "      <td>NaN</td>\n",
       "      <td>NaN</td>\n",
       "      <td>NaN</td>\n",
       "      <td>NaN</td>\n",
       "    </tr>\n",
       "  </tbody>\n",
       "</table>\n",
       "<p>3 rows × 33 columns</p>\n",
       "</div>"
      ],
      "text/plain": [
       "        SK_ID_CURR  TARGET  SK_ID_PREV NAME_CONTRACT_TYPE  AMT_ANNUITY  \\\n",
       "128983      238970       0   2501351.0         Cash loans   418058.145   \n",
       "211374      327696       0   1314599.0         Cash loans   417927.645   \n",
       "246412      365299       0   1225459.0         Cash loans   418058.145   \n",
       "\n",
       "        AMT_APPLICATION  AMT_CREDIT  AMT_GOODS_PRICE  \\\n",
       "128983        2250000.0   2369070.0        2250000.0   \n",
       "211374        2250000.0   2369070.0        2250000.0   \n",
       "246412        2250000.0   2369070.0        2250000.0   \n",
       "\n",
       "       WEEKDAY_APPR_PROCESS_START  HOUR_APPR_PROCESS_START  ...  \\\n",
       "128983                     FRIDAY                     11.0  ...   \n",
       "211374                    TUESDAY                     18.0  ...   \n",
       "246412                     MONDAY                     10.0  ...   \n",
       "\n",
       "       NAME_SELLER_INDUSTRY  CNT_PAYMENT NAME_YIELD_GROUP PRODUCT_COMBINATION  \\\n",
       "128983                  XNA          6.0       low_action    Cash Street: low   \n",
       "211374                  XNA          6.0       low_action    Cash Street: low   \n",
       "246412                  XNA          6.0       low_action    Cash Street: low   \n",
       "\n",
       "        DAYS_FIRST_DRAWING DAYS_FIRST_DUE DAYS_LAST_DUE_1ST_VERSION  \\\n",
       "128983                 NaN            NaN                       NaN   \n",
       "211374                 NaN            NaN                       NaN   \n",
       "246412                 NaN            NaN                       NaN   \n",
       "\n",
       "       DAYS_LAST_DUE DAYS_TERMINATION NFLAG_INSURED_ON_APPROVAL  \n",
       "128983           NaN              NaN                       NaN  \n",
       "211374           NaN              NaN                       NaN  \n",
       "246412           NaN              NaN                       NaN  \n",
       "\n",
       "[3 rows x 33 columns]"
      ]
     },
     "execution_count": 29,
     "metadata": {},
     "output_type": "execute_result"
    }
   ],
   "source": [
    "merged_dsets[merged_dsets['AMT_ANNUITY']>400000]"
   ]
  },
  {
   "cell_type": "markdown",
   "id": "cdc0076a",
   "metadata": {},
   "source": [
    "Dropping these outliers"
   ]
  },
  {
   "cell_type": "code",
   "execution_count": 30,
   "id": "e39462a0",
   "metadata": {},
   "outputs": [],
   "source": [
    "merged_dsets=merged_dsets[~(merged_dsets['AMT_ANNUITY']>400000)]"
   ]
  },
  {
   "cell_type": "code",
   "execution_count": 31,
   "id": "83fdf553",
   "metadata": {},
   "outputs": [
    {
     "data": {
      "image/png": "[encoded data removed]",
      "text/plain": [
       "<Figure size 432x288 with 1 Axes>"
      ]
     },
     "metadata": {},
     "output_type": "display_data"
    }
   ],
   "source": [
    "sns.set(style=\"whitegrid\")\n",
    "sns.boxplot(merged_dsets['AMT_ANNUITY'])\n",
    "plt.show()"
   ]
  },
  {
   "cell_type": "code",
   "execution_count": 32,
   "id": "61b5c5a8",
   "metadata": {},
   "outputs": [
    {
     "data": {
      "image/png": "[encoded data removed]",
      "text/plain": [
       "<Figure size 864x288 with 2 Axes>"
      ]
     },
     "metadata": {},
     "output_type": "display_data"
    }
   ],
   "source": [
    "\n",
    "plt.figure(figsize=[12,4])\n",
    "plt.subplot(1,2,1)\n",
    "plt.title(\"Status of Previous Loan Application vs Target\")\n",
    "sns.countplot(merged_dsets['NAME_CONTRACT_STATUS'], hue=merged_dsets['TARGET'])\n",
    "plt.subplot(1,2,2)\n",
    "plt.title(\"Status of Previous Loan Application\")\n",
    "sns.countplot(inp2['NAME_CONTRACT_STATUS'])\n",
    "plt.show()"
   ]
  },
  {
   "cell_type": "markdown",
   "id": "f108b9f9",
   "metadata": {},
   "source": [
    "Contarct status vs Default rate"
   ]
  },
  {
   "cell_type": "code",
   "execution_count": 36,
   "id": "0c28123f",
   "metadata": {},
   "outputs": [
    {
     "data": {
      "image/png": "[encoded data removed]",
      "text/plain": [
       "<Figure size 432x288 with 1 Axes>"
      ]
     },
     "metadata": {},
     "output_type": "display_data"
    }
   ],
   "source": [
    "plt.title(\"Default vs contract status\")\n",
    "plt.ylabel(\"Default rate\")\n",
    "merged_dsets.groupby(['NAME_CONTRACT_STATUS'])['TARGET'].mean().plot.bar()\n",
    "plt.show()"
   ]
  },
  {
   "cell_type": "markdown",
   "id": "9521ee71",
   "metadata": {},
   "source": [
    "Comment:\n",
    "1) out of around 25000 previous approved applications ,around 20000 i.e 90% are non-defaulters on the current loan and about 10% are defaulters this proves that people with previous approved applications have low chance of defaulting\n",
    "\n",
    "2) Applicants refused in the previous application have the highest default rate"
   ]
  },
  {
   "cell_type": "code",
   "execution_count": 33,
   "id": "2dc89ad0",
   "metadata": {},
   "outputs": [
    {
     "data": {
      "text/plain": [
       "24.0"
      ]
     },
     "execution_count": 33,
     "metadata": {},
     "output_type": "execute_result"
    }
   ],
   "source": [
    "merged_dsets.CNT_PAYMENT.median()"
   ]
  },
  {
   "cell_type": "markdown",
   "id": "157398a8",
   "metadata": {},
   "source": [
    "Replacing missing values in CNT_PAYEMENT with the median"
   ]
  },
  {
   "cell_type": "code",
   "execution_count": 34,
   "id": "486f1b9b",
   "metadata": {},
   "outputs": [],
   "source": [
    " merged_dsets=merged_dsets.fillna(merged_dsets.median())"
   ]
  },
  {
   "cell_type": "code",
   "execution_count": 35,
   "id": "6ea3057e",
   "metadata": {},
   "outputs": [
    {
     "data": {
      "text/plain": [
       "0"
      ]
     },
     "execution_count": 35,
     "metadata": {},
     "output_type": "execute_result"
    }
   ],
   "source": [
    "merged_dsets.CNT_PAYMENT.isnull().sum()"
   ]
  },
  {
   "cell_type": "code",
   "execution_count": 36,
   "id": "585ddb56",
   "metadata": {},
   "outputs": [
    {
     "data": {
      "text/plain": [
       "<AxesSubplot:>"
      ]
     },
     "execution_count": 36,
     "metadata": {},
     "output_type": "execute_result"
    },
    {
     "data": {
      "image/png": "[encoded data removed]",
      "text/plain": [
       "<Figure size 432x288 with 2 Axes>"
      ]
     },
     "metadata": {},
     "output_type": "display_data"
    }
   ],
   "source": [
    "sns.heatmap(merged_dsets[[\"AMT_CREDIT\",\"CNT_PAYMENT\",\"AMT_ANNUITY\"]].corr(),annot=True,cmap=\"Blues\")"
   ]
  },
  {
   "cell_type": "markdown",
   "id": "c54cfdc5",
   "metadata": {},
   "source": [
    "There is a high correlation between AMT_CREDIT and AMT_ANNUITY as well as CNT_PAYEMENT and AMT_CREDIT "
   ]
  },
  {
   "cell_type": "code",
   "execution_count": 37,
   "id": "108a4a5c",
   "metadata": {},
   "outputs": [
    {
     "data": {
      "image/png": "[encoded data removed]",
      "text/plain": [
       "<Figure size 432x288 with 1 Axes>"
      ]
     },
     "metadata": {},
     "output_type": "display_data"
    }
   ],
   "source": [
    "sns.countplot(merged_dsets.NAME_CONTRACT_TYPE, hue=merged_dsets.TARGET)\n",
    "plt.show()"
   ]
  },
  {
   "cell_type": "code",
   "execution_count": 38,
   "id": "bace0f2f",
   "metadata": {},
   "outputs": [
    {
     "data": {
      "text/plain": [
       "XAP       24444\n",
       "HC        18510\n",
       "LIMIT      7972\n",
       "SCO        4602\n",
       "VERIF      2054\n",
       "SCOFR      1221\n",
       "XNA         423\n",
       "CLIENT      183\n",
       "SYSTEM        1\n",
       "Name: CODE_REJECT_REASON, dtype: int64"
      ]
     },
     "execution_count": 38,
     "metadata": {},
     "output_type": "execute_result"
    }
   ],
   "source": [
    "merged_dsets['CODE_REJECT_REASON'].value_counts()"
   ]
  },
  {
   "cell_type": "code",
   "execution_count": 39,
   "id": "19fa19e6",
   "metadata": {},
   "outputs": [],
   "source": [
    "merged_dsets=merged_dsets[~(merged_dsets['CODE_REJECT_REASON']==\"XNA\")]"
   ]
  },
  {
   "cell_type": "markdown",
   "id": "180086ed",
   "metadata": {},
   "source": [
    "Conclusion: All of the loans in the previous application are Cash loans out of which around 10000 were defaulters in the current application"
   ]
  },
  {
   "cell_type": "code",
   "execution_count": 40,
   "id": "7d0dabf3",
   "metadata": {},
   "outputs": [
    {
     "data": {
      "image/png": "[encoded data removed]",
      "text/plain": [
       "<Figure size 576x288 with 1 Axes>"
      ]
     },
     "metadata": {},
     "output_type": "display_data"
    }
   ],
   "source": [
    "plt.figure(figsize=[8,4])\n",
    "sns.countplot(merged_dsets[merged_dsets['NAME_CONTRACT_STATUS'] == \"Refused\"][\"CODE_REJECT_REASON\"])\n",
    "plt.show()"
   ]
  },
  {
   "cell_type": "code",
   "execution_count": 38,
   "id": "bdf6a677",
   "metadata": {},
   "outputs": [
    {
     "data": {
      "image/png": "[encoded data removed]",
      "text/plain": [
       "<Figure size 432x288 with 1 Axes>"
      ]
     },
     "metadata": {},
     "output_type": "display_data"
    }
   ],
   "source": [
    "plt.title(\"Default vs reject reason\")\n",
    "plt.ylabel(\"Default rate\")\n",
    "merged_dsets.groupby(['CODE_REJECT_REASON'])['TARGET'].mean().plot.bar()\n",
    "plt.show()"
   ]
  },
  {
   "cell_type": "markdown",
   "id": "f681a11a",
   "metadata": {},
   "source": [
    "Comment: Applicants refused due to scofr have the highest default rate"
   ]
  },
  {
   "cell_type": "code",
   "execution_count": 41,
   "id": "3b1d7f58",
   "metadata": {},
   "outputs": [],
   "source": [
    "merged_dsets=merged_dsets[~(merged_dsets['NAME_CLIENT_TYPE']==\"XNA\")]\n",
    "inp2=inp2[~(inp2['NAME_CLIENT_TYPE']==\"XNA\")]"
   ]
  },
  {
   "cell_type": "markdown",
   "id": "337bc63e",
   "metadata": {},
   "source": [
    "We can see that HC , limit and SCO are the top reasons for rejection"
   ]
  },
  {
   "cell_type": "code",
   "execution_count": 42,
   "id": "9deb7509",
   "metadata": {},
   "outputs": [
    {
     "data": {
      "image/png": "[encoded data removed]",
      "text/plain": [
       "<Figure size 432x288 with 1 Axes>"
      ]
     },
     "metadata": {},
     "output_type": "display_data"
    }
   ],
   "source": [
    "sns.countplot(merged_dsets['NAME_CLIENT_TYPE'], hue=merged_dsets['TARGET'])\n",
    "plt.show()"
   ]
  },
  {
   "cell_type": "code",
   "execution_count": 41,
   "id": "a957e31d",
   "metadata": {},
   "outputs": [
    {
     "data": {
      "image/png": "[encoded data removed]",
      "text/plain": [
       "<Figure size 864x288 with 2 Axes>"
      ]
     },
     "metadata": {},
     "output_type": "display_data"
    }
   ],
   "source": [
    "plt.figure(figsize=[12,4])\n",
    "plt.subplot(1,2,1)\n",
    "plt.title(\"Client Type for Defaulters and Non defaulters\")\n",
    "sns.countplot(merged_dsets['NAME_CLIENT_TYPE'], hue=merged_dsets['TARGET'])\n",
    "plt.subplot(1,2,2)\n",
    "plt.title(\"Client Type for all the previous applications\")\n",
    "sns.countplot(inp2['NAME_CLIENT_TYPE'])\n",
    "plt.show()"
   ]
  },
  {
   "cell_type": "markdown",
   "id": "8a6f7df9",
   "metadata": {},
   "source": [
    "Almost 70% of the old clients Repeaters are non defaulters while 50% of the New cleints are non defaulters"
   ]
  },
  {
   "cell_type": "code",
   "execution_count": 43,
   "id": "05f7ea32",
   "metadata": {},
   "outputs": [
    {
     "name": "stdout",
     "output_type": "stream",
     "text": [
      "Percentage of previously approved loan applicants that defaulted in current loan :  11.198266522210185\n"
     ]
    }
   ],
   "source": [
    "total_approved = merged_dsets[merged_dsets['NAME_CONTRACT_STATUS'] == \"Approved\"].shape[0]\n",
    "default_approved = merged_dsets[(merged_dsets['TARGET'] == 1) & (merged_dsets[merged_dsets.TARGET==1]['NAME_CONTRACT_STATUS'] == \"Approved\")].shape[0]\n",
    "\n",
    "print(\"Percentage of previously approved loan applicants that defaulted in current loan : \", (default_approved*100/total_approved))"
   ]
  },
  {
   "cell_type": "code",
   "execution_count": 44,
   "id": "8598ed8c",
   "metadata": {},
   "outputs": [
    {
     "name": "stdout",
     "output_type": "stream",
     "text": [
      "Percentage of previously refused loan applicants that were able to pay current loan :  85.65966132881005\n"
     ]
    }
   ],
   "source": [
    "\n",
    "total_refused = merged_dsets[merged_dsets['NAME_CONTRACT_STATUS'] == \"Refused\"].shape[0]\n",
    "nondefault_refused = merged_dsets[(merged_dsets['TARGET'] == 0) & (merged_dsets['NAME_CONTRACT_STATUS'] == \"Refused\")].shape[0]\n",
    "\n",
    "print(\"Percentage of previously refused loan applicants that were able to pay current loan : \", (nondefault_refused*100/total_refused))"
   ]
  },
  {
   "cell_type": "markdown",
   "id": "4507217d",
   "metadata": {},
   "source": [
    "Client type  vs  target vs reject reason"
   ]
  },
  {
   "cell_type": "code",
   "execution_count": 49,
   "id": "0ec1bd2f",
   "metadata": {},
   "outputs": [
    {
     "data": {
      "image/png": "[encoded data removed]",
      "text/plain": [
       "<Figure size 432x288 with 2 Axes>"
      ]
     },
     "metadata": {},
     "output_type": "display_data"
    }
   ],
   "source": [
    "resp=pd.pivot_table(data=merged_dsets,index=\"NAME_CLIENT_TYPE\",columns=\"CODE_REJECT_REASON\",values=\"TARGET\",fill_value=0)\n",
    "plt.title(\"Reject reason vs client type vs default rate\")\n",
    "sns.heatmap(resp,annot=True,cmap=\"RdYlGn\")\n",
    "plt.show()"
   ]
  },
  {
   "cell_type": "markdown",
   "id": "6d8c7732",
   "metadata": {},
   "source": [
    "Comment: new clients with scofr rejection readon have the highest default rate"
   ]
  },
  {
   "cell_type": "code",
   "execution_count": 152,
   "id": "65abc16f",
   "metadata": {},
   "outputs": [
    {
     "data": {
      "image/png": "[encoded data removed]",
      "text/plain": [
       "<Figure size 864x288 with 2 Axes>"
      ]
     },
     "metadata": {},
     "output_type": "display_data"
    }
   ],
   "source": [
    "plt.figure(figsize=[12,4])\n",
    "plt.subplot(1,2,1)\n",
    "plt.xticks(rotation=90)\n",
    "plt.title(\"Payment Type for Defaulters and Non defaulters\")\n",
    "sns.countplot(merged_dsets['NAME_PAYMENT_TYPE'], hue=merged_dsets['TARGET'])\n",
    "plt.subplot(1,2,2)\n",
    "plt.xticks(rotation=90)\n",
    "plt.title(\"Payment Type for all the previous applications\")\n",
    "sns.countplot(inp2['NAME_PAYMENT_TYPE'])\n",
    "plt.show()"
   ]
  },
  {
   "cell_type": "markdown",
   "id": "53cee064",
   "metadata": {},
   "source": [
    "Most of the payment is done by cash through the bank"
   ]
  },
  {
   "cell_type": "code",
   "execution_count": 164,
   "id": "c7200be8",
   "metadata": {},
   "outputs": [
    {
     "data": {
      "image/png": "[encoded data removed]",
      "text/plain": [
       "<Figure size 864x288 with 2 Axes>"
      ]
     },
     "metadata": {},
     "output_type": "display_data"
    }
   ],
   "source": [
    "plt.figure(figsize=[12,4])\n",
    "plt.subplot(1,2,1)\n",
    "plt.xticks(rotation=90)\n",
    "plt.title(\"Payment Type for Defaulters and Non defaulters\")\n",
    "sns.countplot(merged_dsets['PRODUCT_COMBINATION'], hue=merged_dsets['TARGET'])\n",
    "plt.subplot(1,2,2)\n",
    "plt.xticks(rotation=90)\n",
    "plt.title(\"Payment Type for all the previous applications\")\n",
    "sns.countplot(inp2['PRODUCT_COMBINATION'])\n",
    "plt.show()"
   ]
  },
  {
   "cell_type": "markdown",
   "id": "5e80e81e",
   "metadata": {},
   "source": [
    "The highest number of defaulters is for Cash Streets high ,low and middle"
   ]
  },
  {
   "cell_type": "code",
   "execution_count": 46,
   "id": "c9b5e3d7",
   "metadata": {},
   "outputs": [
    {
     "data": {
      "image/png": "[encoded data removed]",
      "text/plain": [
       "<Figure size 576x288 with 1 Axes>"
      ]
     },
     "metadata": {},
     "output_type": "display_data"
    }
   ],
   "source": [
    "plt.figure(figsize=[8,4])\n",
    "\n",
    "plt.xticks(rotation=90)\n",
    "plt.title(\"Type of previous application for Defaulters and Non defaulters\")\n",
    "sns.countplot(merged_dsets['NAME_PORTFOLIO'], hue=merged_dsets['TARGET'])\n",
    "\n",
    "plt.show()"
   ]
  },
  {
   "cell_type": "code",
   "execution_count": null,
   "id": "983afc6b",
   "metadata": {},
   "outputs": [],
   "source": []
  }
 ],
 "metadata": {
  "kernelspec": {
   "display_name": "Python 3 (ipykernel)",
   "language": "python",
   "name": "python3"
  },
  "language_info": {
   "codemirror_mode": {
    "name": "ipython",
    "version": 3
   },
   "file_extension": ".py",
   "mimetype": "text/x-python",
   "name": "python",
   "nbconvert_exporter": "python",
   "pygments_lexer": "ipython3",
   "version": "3.9.12"
  }
 },
 "nbformat": 4,
 "nbformat_minor": 5
}
